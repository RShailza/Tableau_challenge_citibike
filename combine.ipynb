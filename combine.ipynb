{
 "cells": [
  {
   "cell_type": "code",
   "execution_count": 2,
   "id": "3225e89f",
   "metadata": {},
   "outputs": [],
   "source": [
    "import pandas as pd\n"
   ]
  },
  {
   "cell_type": "code",
   "execution_count": 3,
   "id": "c9168e6b",
   "metadata": {},
   "outputs": [],
   "source": [
    "B1801_df = pd.read_csv(\"201801-citibike-tripdata.csv\")\n",
    "#B1801_df.head()"
   ]
  },
  {
   "cell_type": "code",
   "execution_count": 4,
   "id": "508a604c",
   "metadata": {},
   "outputs": [
    {
     "data": {
      "text/plain": [
       "Index(['tripduration', 'starttime', 'stoptime', 'start station id',\n",
       "       'start station name', 'start station latitude',\n",
       "       'start station longitude', 'end station id', 'end station name',\n",
       "       'end station latitude', 'end station longitude', 'bikeid', 'usertype',\n",
       "       'birth year', 'gender'],\n",
       "      dtype='object')"
      ]
     },
     "execution_count": 4,
     "metadata": {},
     "output_type": "execute_result"
    }
   ],
   "source": [
    "B1801_df.columns"
   ]
  },
  {
   "cell_type": "code",
   "execution_count": 5,
   "id": "694fc8cc",
   "metadata": {},
   "outputs": [
    {
     "data": {
      "text/plain": [
       "Index(['tripduration', 'starttime', 'stoptime', 'start station id',\n",
       "       'start station name', 'start station latitude',\n",
       "       'start station longitude', 'end station id', 'end station name',\n",
       "       'end station latitude', 'end station longitude', 'bikeid', 'usertype',\n",
       "       'birth year', 'gender'],\n",
       "      dtype='object')"
      ]
     },
     "execution_count": 5,
     "metadata": {},
     "output_type": "execute_result"
    }
   ],
   "source": [
    "B1802_df= pd.read_csv(\"201802-citibike-tripdata.csv\")\n",
    "B1802_df.head()\n",
    "B1802_df.columns"
   ]
  },
  {
   "cell_type": "code",
   "execution_count": 6,
   "id": "bab0684b",
   "metadata": {},
   "outputs": [
    {
     "data": {
      "text/plain": [
       "Index(['tripduration', 'starttime', 'stoptime', 'start station id',\n",
       "       'start station name', 'start station latitude',\n",
       "       'start station longitude', 'end station id', 'end station name',\n",
       "       'end station latitude', 'end station longitude', 'bikeid', 'usertype',\n",
       "       'birth year', 'gender'],\n",
       "      dtype='object')"
      ]
     },
     "execution_count": 6,
     "metadata": {},
     "output_type": "execute_result"
    }
   ],
   "source": [
    "B1803_df = pd.read_csv(\"201803-citibike-tripdata.csv\")\n",
    "B1803_df.head()\n",
    "B1803_df.columns"
   ]
  },
  {
   "cell_type": "code",
   "execution_count": 7,
   "id": "eb9724aa",
   "metadata": {},
   "outputs": [
    {
     "data": {
      "text/plain": [
       "Index(['tripduration', 'starttime', 'stoptime', 'start station id',\n",
       "       'start station name', 'start station latitude',\n",
       "       'start station longitude', 'end station id', 'end station name',\n",
       "       'end station latitude', 'end station longitude', 'bikeid', 'usertype',\n",
       "       'birth year', 'gender'],\n",
       "      dtype='object')"
      ]
     },
     "execution_count": 7,
     "metadata": {},
     "output_type": "execute_result"
    }
   ],
   "source": [
    "B1804_df = pd.read_csv(\"201804-citibike-tripdata.csv\")\n",
    "B1804_df.head()\n",
    "B1804_df.columns"
   ]
  },
  {
   "cell_type": "code",
   "execution_count": 8,
   "id": "fd5789d8",
   "metadata": {},
   "outputs": [
    {
     "data": {
      "text/plain": [
       "Index(['tripduration', 'starttime', 'stoptime', 'start station id',\n",
       "       'start station name', 'start station latitude',\n",
       "       'start station longitude', 'end station id', 'end station name',\n",
       "       'end station latitude', 'end station longitude', 'bikeid', 'usertype',\n",
       "       'birth year', 'gender'],\n",
       "      dtype='object')"
      ]
     },
     "execution_count": 8,
     "metadata": {},
     "output_type": "execute_result"
    }
   ],
   "source": [
    "B1805_df = pd.read_csv(\"201805-citibike-tripdata.csv\")\n",
    "B1805_df.columns\n"
   ]
  },
  {
   "cell_type": "code",
   "execution_count": 9,
   "id": "b3d55a3e",
   "metadata": {},
   "outputs": [
    {
     "data": {
      "text/plain": [
       "Index(['tripduration', 'starttime', 'stoptime', 'start station id',\n",
       "       'start station name', 'start station latitude',\n",
       "       'start station longitude', 'end station id', 'end station name',\n",
       "       'end station latitude', 'end station longitude', 'bikeid', 'usertype',\n",
       "       'birth year', 'gender'],\n",
       "      dtype='object')"
      ]
     },
     "execution_count": 9,
     "metadata": {},
     "output_type": "execute_result"
    }
   ],
   "source": [
    "B1806_df = pd.read_csv(\"201806-citibike-tripdata.csv\")\n",
    "B1806_df.columns\n"
   ]
  },
  {
   "cell_type": "code",
   "execution_count": 10,
   "id": "b43766da",
   "metadata": {},
   "outputs": [
    {
     "data": {
      "text/html": [
       "<div>\n",
       "<style scoped>\n",
       "    .dataframe tbody tr th:only-of-type {\n",
       "        vertical-align: middle;\n",
       "    }\n",
       "\n",
       "    .dataframe tbody tr th {\n",
       "        vertical-align: top;\n",
       "    }\n",
       "\n",
       "    .dataframe thead th {\n",
       "        text-align: right;\n",
       "    }\n",
       "</style>\n",
       "<table border=\"1\" class=\"dataframe\">\n",
       "  <thead>\n",
       "    <tr style=\"text-align: right;\">\n",
       "      <th></th>\n",
       "      <th>tripduration</th>\n",
       "      <th>starttime</th>\n",
       "      <th>stoptime</th>\n",
       "      <th>start station id</th>\n",
       "      <th>start station name</th>\n",
       "      <th>start station latitude</th>\n",
       "      <th>start station longitude</th>\n",
       "      <th>end station id</th>\n",
       "      <th>end station name</th>\n",
       "      <th>end station latitude</th>\n",
       "      <th>end station longitude</th>\n",
       "      <th>bikeid</th>\n",
       "      <th>usertype</th>\n",
       "      <th>birth year</th>\n",
       "      <th>gender</th>\n",
       "    </tr>\n",
       "  </thead>\n",
       "  <tbody>\n",
       "    <tr>\n",
       "      <th>0</th>\n",
       "      <td>970</td>\n",
       "      <td>2018-01-01 13:50:57.4340</td>\n",
       "      <td>2018-01-01 14:07:08.1860</td>\n",
       "      <td>72</td>\n",
       "      <td>W 52 St &amp; 11 Ave</td>\n",
       "      <td>40.767272</td>\n",
       "      <td>-73.993929</td>\n",
       "      <td>505</td>\n",
       "      <td>6 Ave &amp; W 33 St</td>\n",
       "      <td>40.749013</td>\n",
       "      <td>-73.988484</td>\n",
       "      <td>31956</td>\n",
       "      <td>Subscriber</td>\n",
       "      <td>1992</td>\n",
       "      <td>1</td>\n",
       "    </tr>\n",
       "    <tr>\n",
       "      <th>1</th>\n",
       "      <td>723</td>\n",
       "      <td>2018-01-01 15:33:30.1820</td>\n",
       "      <td>2018-01-01 15:45:33.3410</td>\n",
       "      <td>72</td>\n",
       "      <td>W 52 St &amp; 11 Ave</td>\n",
       "      <td>40.767272</td>\n",
       "      <td>-73.993929</td>\n",
       "      <td>3255</td>\n",
       "      <td>8 Ave &amp; W 31 St</td>\n",
       "      <td>40.750585</td>\n",
       "      <td>-73.994685</td>\n",
       "      <td>32536</td>\n",
       "      <td>Subscriber</td>\n",
       "      <td>1969</td>\n",
       "      <td>1</td>\n",
       "    </tr>\n",
       "    <tr>\n",
       "      <th>2</th>\n",
       "      <td>496</td>\n",
       "      <td>2018-01-01 15:39:18.3370</td>\n",
       "      <td>2018-01-01 15:47:35.1720</td>\n",
       "      <td>72</td>\n",
       "      <td>W 52 St &amp; 11 Ave</td>\n",
       "      <td>40.767272</td>\n",
       "      <td>-73.993929</td>\n",
       "      <td>525</td>\n",
       "      <td>W 34 St &amp; 11 Ave</td>\n",
       "      <td>40.755942</td>\n",
       "      <td>-74.002116</td>\n",
       "      <td>16069</td>\n",
       "      <td>Subscriber</td>\n",
       "      <td>1956</td>\n",
       "      <td>1</td>\n",
       "    </tr>\n",
       "    <tr>\n",
       "      <th>3</th>\n",
       "      <td>306</td>\n",
       "      <td>2018-01-01 15:40:13.3720</td>\n",
       "      <td>2018-01-01 15:45:20.1910</td>\n",
       "      <td>72</td>\n",
       "      <td>W 52 St &amp; 11 Ave</td>\n",
       "      <td>40.767272</td>\n",
       "      <td>-73.993929</td>\n",
       "      <td>447</td>\n",
       "      <td>8 Ave &amp; W 52 St</td>\n",
       "      <td>40.763707</td>\n",
       "      <td>-73.985162</td>\n",
       "      <td>31781</td>\n",
       "      <td>Subscriber</td>\n",
       "      <td>1974</td>\n",
       "      <td>1</td>\n",
       "    </tr>\n",
       "    <tr>\n",
       "      <th>4</th>\n",
       "      <td>306</td>\n",
       "      <td>2018-01-01 18:14:51.5680</td>\n",
       "      <td>2018-01-01 18:19:57.6420</td>\n",
       "      <td>72</td>\n",
       "      <td>W 52 St &amp; 11 Ave</td>\n",
       "      <td>40.767272</td>\n",
       "      <td>-73.993929</td>\n",
       "      <td>3356</td>\n",
       "      <td>Amsterdam Ave &amp; W 66 St</td>\n",
       "      <td>40.774667</td>\n",
       "      <td>-73.984706</td>\n",
       "      <td>30319</td>\n",
       "      <td>Subscriber</td>\n",
       "      <td>1992</td>\n",
       "      <td>1</td>\n",
       "    </tr>\n",
       "    <tr>\n",
       "      <th>...</th>\n",
       "      <td>...</td>\n",
       "      <td>...</td>\n",
       "      <td>...</td>\n",
       "      <td>...</td>\n",
       "      <td>...</td>\n",
       "      <td>...</td>\n",
       "      <td>...</td>\n",
       "      <td>...</td>\n",
       "      <td>...</td>\n",
       "      <td>...</td>\n",
       "      <td>...</td>\n",
       "      <td>...</td>\n",
       "      <td>...</td>\n",
       "      <td>...</td>\n",
       "      <td>...</td>\n",
       "    </tr>\n",
       "    <tr>\n",
       "      <th>1953098</th>\n",
       "      <td>3183</td>\n",
       "      <td>2018-06-30 12:53:16.1630</td>\n",
       "      <td>2018-06-30 13:46:19.5730</td>\n",
       "      <td>3691</td>\n",
       "      <td>28 Ave &amp; 44 St</td>\n",
       "      <td>40.764089</td>\n",
       "      <td>-73.910651</td>\n",
       "      <td>462</td>\n",
       "      <td>W 22 St &amp; 10 Ave</td>\n",
       "      <td>40.746920</td>\n",
       "      <td>-74.004519</td>\n",
       "      <td>30117</td>\n",
       "      <td>Customer</td>\n",
       "      <td>1996</td>\n",
       "      <td>1</td>\n",
       "    </tr>\n",
       "    <tr>\n",
       "      <th>1953099</th>\n",
       "      <td>2352</td>\n",
       "      <td>2018-06-30 13:05:57.1730</td>\n",
       "      <td>2018-06-30 13:45:09.7640</td>\n",
       "      <td>3691</td>\n",
       "      <td>28 Ave &amp; 44 St</td>\n",
       "      <td>40.764089</td>\n",
       "      <td>-73.910651</td>\n",
       "      <td>479</td>\n",
       "      <td>9 Ave &amp; W 45 St</td>\n",
       "      <td>40.760193</td>\n",
       "      <td>-73.991255</td>\n",
       "      <td>14809</td>\n",
       "      <td>Subscriber</td>\n",
       "      <td>1972</td>\n",
       "      <td>1</td>\n",
       "    </tr>\n",
       "    <tr>\n",
       "      <th>1953100</th>\n",
       "      <td>988</td>\n",
       "      <td>2018-06-30 22:56:32.5280</td>\n",
       "      <td>2018-06-30 23:13:01.5270</td>\n",
       "      <td>3691</td>\n",
       "      <td>28 Ave &amp; 44 St</td>\n",
       "      <td>40.764089</td>\n",
       "      <td>-73.910651</td>\n",
       "      <td>3530</td>\n",
       "      <td>Crescent St &amp; Ditmars Blvd</td>\n",
       "      <td>40.778718</td>\n",
       "      <td>-73.914564</td>\n",
       "      <td>19432</td>\n",
       "      <td>Subscriber</td>\n",
       "      <td>1984</td>\n",
       "      <td>1</td>\n",
       "    </tr>\n",
       "    <tr>\n",
       "      <th>1953101</th>\n",
       "      <td>1695</td>\n",
       "      <td>2018-06-29 16:33:31.2320</td>\n",
       "      <td>2018-06-29 17:01:47.1620</td>\n",
       "      <td>3692</td>\n",
       "      <td>5 St &amp; Market St</td>\n",
       "      <td>40.699997</td>\n",
       "      <td>-73.974401</td>\n",
       "      <td>3324</td>\n",
       "      <td>3 Ave &amp; 14 St</td>\n",
       "      <td>40.668546</td>\n",
       "      <td>-73.993333</td>\n",
       "      <td>25077</td>\n",
       "      <td>Subscriber</td>\n",
       "      <td>1969</td>\n",
       "      <td>1</td>\n",
       "    </tr>\n",
       "    <tr>\n",
       "      <th>1953102</th>\n",
       "      <td>1487</td>\n",
       "      <td>2018-06-30 17:16:59.5840</td>\n",
       "      <td>2018-06-30 17:41:47.0520</td>\n",
       "      <td>3692</td>\n",
       "      <td>5 St &amp; Market St</td>\n",
       "      <td>40.699997</td>\n",
       "      <td>-73.974401</td>\n",
       "      <td>443</td>\n",
       "      <td>Bedford Ave &amp; S 9 St</td>\n",
       "      <td>40.708531</td>\n",
       "      <td>-73.964090</td>\n",
       "      <td>30376</td>\n",
       "      <td>Customer</td>\n",
       "      <td>1971</td>\n",
       "      <td>1</td>\n",
       "    </tr>\n",
       "  </tbody>\n",
       "</table>\n",
       "<p>7624136 rows × 15 columns</p>\n",
       "</div>"
      ],
      "text/plain": [
       "         tripduration                 starttime                  stoptime  \\\n",
       "0                 970  2018-01-01 13:50:57.4340  2018-01-01 14:07:08.1860   \n",
       "1                 723  2018-01-01 15:33:30.1820  2018-01-01 15:45:33.3410   \n",
       "2                 496  2018-01-01 15:39:18.3370  2018-01-01 15:47:35.1720   \n",
       "3                 306  2018-01-01 15:40:13.3720  2018-01-01 15:45:20.1910   \n",
       "4                 306  2018-01-01 18:14:51.5680  2018-01-01 18:19:57.6420   \n",
       "...               ...                       ...                       ...   \n",
       "1953098          3183  2018-06-30 12:53:16.1630  2018-06-30 13:46:19.5730   \n",
       "1953099          2352  2018-06-30 13:05:57.1730  2018-06-30 13:45:09.7640   \n",
       "1953100           988  2018-06-30 22:56:32.5280  2018-06-30 23:13:01.5270   \n",
       "1953101          1695  2018-06-29 16:33:31.2320  2018-06-29 17:01:47.1620   \n",
       "1953102          1487  2018-06-30 17:16:59.5840  2018-06-30 17:41:47.0520   \n",
       "\n",
       "         start station id start station name  start station latitude  \\\n",
       "0                      72   W 52 St & 11 Ave               40.767272   \n",
       "1                      72   W 52 St & 11 Ave               40.767272   \n",
       "2                      72   W 52 St & 11 Ave               40.767272   \n",
       "3                      72   W 52 St & 11 Ave               40.767272   \n",
       "4                      72   W 52 St & 11 Ave               40.767272   \n",
       "...                   ...                ...                     ...   \n",
       "1953098              3691     28 Ave & 44 St               40.764089   \n",
       "1953099              3691     28 Ave & 44 St               40.764089   \n",
       "1953100              3691     28 Ave & 44 St               40.764089   \n",
       "1953101              3692   5 St & Market St               40.699997   \n",
       "1953102              3692   5 St & Market St               40.699997   \n",
       "\n",
       "         start station longitude  end station id            end station name  \\\n",
       "0                     -73.993929             505             6 Ave & W 33 St   \n",
       "1                     -73.993929            3255             8 Ave & W 31 St   \n",
       "2                     -73.993929             525            W 34 St & 11 Ave   \n",
       "3                     -73.993929             447             8 Ave & W 52 St   \n",
       "4                     -73.993929            3356     Amsterdam Ave & W 66 St   \n",
       "...                          ...             ...                         ...   \n",
       "1953098               -73.910651             462            W 22 St & 10 Ave   \n",
       "1953099               -73.910651             479             9 Ave & W 45 St   \n",
       "1953100               -73.910651            3530  Crescent St & Ditmars Blvd   \n",
       "1953101               -73.974401            3324               3 Ave & 14 St   \n",
       "1953102               -73.974401             443        Bedford Ave & S 9 St   \n",
       "\n",
       "         end station latitude  end station longitude  bikeid    usertype  \\\n",
       "0                   40.749013             -73.988484   31956  Subscriber   \n",
       "1                   40.750585             -73.994685   32536  Subscriber   \n",
       "2                   40.755942             -74.002116   16069  Subscriber   \n",
       "3                   40.763707             -73.985162   31781  Subscriber   \n",
       "4                   40.774667             -73.984706   30319  Subscriber   \n",
       "...                       ...                    ...     ...         ...   \n",
       "1953098             40.746920             -74.004519   30117    Customer   \n",
       "1953099             40.760193             -73.991255   14809  Subscriber   \n",
       "1953100             40.778718             -73.914564   19432  Subscriber   \n",
       "1953101             40.668546             -73.993333   25077  Subscriber   \n",
       "1953102             40.708531             -73.964090   30376    Customer   \n",
       "\n",
       "         birth year  gender  \n",
       "0              1992       1  \n",
       "1              1969       1  \n",
       "2              1956       1  \n",
       "3              1974       1  \n",
       "4              1992       1  \n",
       "...             ...     ...  \n",
       "1953098        1996       1  \n",
       "1953099        1972       1  \n",
       "1953100        1984       1  \n",
       "1953101        1969       1  \n",
       "1953102        1971       1  \n",
       "\n",
       "[7624136 rows x 15 columns]"
      ]
     },
     "execution_count": 10,
     "metadata": {},
     "output_type": "execute_result"
    }
   ],
   "source": [
    "frames = [B1801_df, B1802_df, B1803_df, B1804_df, B1805_df, B1806_df]\n",
    "\n",
    "result = pd.concat(frames)\n",
    "result"
   ]
  },
  {
   "cell_type": "code",
   "execution_count": 12,
   "id": "b199a814",
   "metadata": {},
   "outputs": [],
   "source": [
    "result.to_csv('./data/combine.csv', index=False)"
   ]
  },
  {
   "cell_type": "code",
   "execution_count": null,
   "id": "28192246",
   "metadata": {},
   "outputs": [],
   "source": [
    " B1806_df"
   ]
  },
  {
   "cell_type": "code",
   "execution_count": null,
   "id": "b154c886",
   "metadata": {},
   "outputs": [],
   "source": [
    "718994, 843114, 976672, 1307543, 1824710, 1953103"
   ]
  },
  {
   "cell_type": "code",
   "execution_count": 33,
   "id": "f3a6af96",
   "metadata": {},
   "outputs": [
    {
     "data": {
      "text/plain": [
       "7624136"
      ]
     },
     "execution_count": 33,
     "metadata": {},
     "output_type": "execute_result"
    }
   ],
   "source": [
    "718994+843114+976672+1307543+1824710+1953103"
   ]
  },
  {
   "cell_type": "code",
   "execution_count": null,
   "id": "d16ff589",
   "metadata": {},
   "outputs": [],
   "source": []
  }
 ],
 "metadata": {
  "kernelspec": {
   "display_name": "Python 3",
   "language": "python",
   "name": "python3"
  },
  "language_info": {
   "codemirror_mode": {
    "name": "ipython",
    "version": 3
   },
   "file_extension": ".py",
   "mimetype": "text/x-python",
   "name": "python",
   "nbconvert_exporter": "python",
   "pygments_lexer": "ipython3",
   "version": "3.8.8"
  }
 },
 "nbformat": 4,
 "nbformat_minor": 5
}
